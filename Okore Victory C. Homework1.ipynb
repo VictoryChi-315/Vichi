{
 "cells": [
  {
   "cell_type": "code",
   "execution_count": 46,
   "id": "e1cf6324-cb3a-4d7a-8fd9-c55dd167f1bf",
   "metadata": {},
   "outputs": [
    {
     "name": "stdout",
     "output_type": "stream",
     "text": [
      "Participant 1 BMI: 37.33\n"
     ]
    }
   ],
   "source": [
    "def calculate_bmi (weight, height_cm) :\n",
    "    height_m = height_cm/100 # Convert height from cm to meters\n",
    "    bmi = weight / (height_m**2) # BMI formula\n",
    "    return bmi\n",
    "       \n",
    "# Participant 1 data\n",
    "weight = 84 # kg\n",
    "height = 150 # cm\n",
    "\n",
    "bmi = calculate_bmi(weight, height)\n",
    "# Print the results\n",
    "\n",
    "print(f\"Participant 1 BMI: {bmi:.2f}\") # Display BMI with two decimal places\n",
    "\n"
   ]
  },
  {
   "cell_type": "code",
   "execution_count": 50,
   "id": "8813da77-3af0-433f-82c3-91aac0177db7",
   "metadata": {},
   "outputs": [
    {
     "name": "stdout",
     "output_type": "stream",
     "text": [
      "Participant 1:\n",
      "Weight: 84 kg\n",
      "Height: 150 cm\n",
      "BMI: 37.33\n"
     ]
    }
   ],
   "source": [
    "def calculate_bmi(weight_kg, height_cm):\n",
    "    \"\"\"\n",
    "    Calculates the Body Mass Index (BMI) given weight in kilograms and height in centimeters.\n",
    "    \"\"\"\n",
    "    height_m = height_cm / 100  # Convert height from centimeters to meters\n",
    "    bmi = weight_kg / (height_m ** 2)  # Calculate BMI\n",
    "    return bmi\n",
    "\n",
    "# Participant 1 data\n",
    "weight_kg = 84\n",
    "height_cm = 150\n",
    "\n",
    "# Calculate BMI for Participant 1\n",
    "bmi = calculate_bmi(weight_kg, height_cm)\n",
    "\n",
    "\n",
    "# Print the results\n",
    "print(f\"Participant 1:\")\n",
    "print(f\"Weight: {weight_kg} kg\")\n",
    "print(f\"Height: {height_cm} cm\")\n",
    "print(f\"BMI: {bmi:.2f}\")  # Display BMI with two decimal places\n"
   ]
  },
  {
   "cell_type": "code",
   "execution_count": 64,
   "id": "b1ad2bea-2743-4d5b-be93-0a349fd3fc30",
   "metadata": {},
   "outputs": [
    {
     "name": "stdout",
     "output_type": "stream",
     "text": [
      "Participant 1:\n",
      "Weight: 84 kg\n",
      "Height: 150 cm\n",
      "BMI: 37.33 kg/m2\n"
     ]
    }
   ],
   "source": [
    "def calculate_bmi (weight_kg, height_cm) :\n",
    "    height_m = height_cm/100 # Convert height from cm to meters\n",
    "    bmi = weight_kg / (height_m**2) # BMI formula\n",
    "    return bmi\n",
    "       \n",
    "# Participant 1 data\n",
    "weight = 84 # kg\n",
    "height = 150 # cm\n",
    "\n",
    "bmi = calculate_bmi(weight, height)\n",
    "# Print the results\n",
    "print(f\"Participant 1:\")b\n",
    "print(f\"Weight: {weight_kg} kg\")\n",
    "print(f\"Height: {height_cm} cm\")\n",
    "print(f\"BMI: {bmi:.2f} kg/m2\") # Display BMI with two decimal places"
   ]
  },
  {
   "cell_type": "code",
   "execution_count": 68,
   "id": "20075e3a-3f69-40a2-a771-e19a82efd341",
   "metadata": {},
   "outputs": [
    {
     "name": "stdout",
     "output_type": "stream",
     "text": [
      "Participant 2:\n",
      "Weight: 84 kg\n",
      "Height: 150 cm\n",
      "BMI: 25.25 kg/m2\n"
     ]
    }
   ],
   "source": [
    "def calculate_bmi (weight_kg, height_cm) :\n",
    "    height_m = height_cm/100 # Convert height from cm to meters\n",
    "    bmi = weight_kg / (height_m**2) # BMI formula\n",
    "    return bmi\n",
    "       \n",
    "# Participant 2 data\n",
    "weight = 100 # kg\n",
    "height = 199 # cm\n",
    "\n",
    "bmi = calculate_bmi(weight, height)\n",
    "# Print the results\n",
    "print(f\"Participant 2:\")\n",
    "print(f\"Weight: {weight_kg} kg\")\n",
    "print(f\"Height: {height_cm} cm\")\n",
    "print(f\"BMI: {bmi:.2f} kg/m2\") # Display BMI with two decimal places"
   ]
  },
  {
   "cell_type": "code",
   "execution_count": 70,
   "id": "a5202fb9-6d34-482a-91eb-a5ab235a8b34",
   "metadata": {},
   "outputs": [
    {
     "name": "stdout",
     "output_type": "stream",
     "text": [
      "Participant 3:\n",
      "Weight: 84 kg\n",
      "Height: 150 cm\n",
      "BMI: 22.58 kg/m2\n"
     ]
    }
   ],
   "source": [
    "def calculate_bmi (weight_kg, height_cm) :\n",
    "    height_m = height_cm/100 # Convert height from cm to meters\n",
    "    bmi = weight_kg / (height_m**2) # BMI formula\n",
    "    return bmi\n",
    "       \n",
    "# Participant 3 data\n",
    "weight = 60 # kg\n",
    "height = 163 # cm\n",
    "\n",
    "bmi = calculate_bmi(weight, height)\n",
    "# Print the results\n",
    "print(f\"Participant 3:\")\n",
    "print(f\"Weight: {weight_kg} kg\")\n",
    "print(f\"Height: {height_cm} cm\")\n",
    "print(f\"BMI: {bmi:.2f} kg/m2\") # Display BMI with two decimal places"
   ]
  },
  {
   "cell_type": "code",
   "execution_count": 75,
   "id": "17c9da2c-6448-4998-8491-6e20b6dc0030",
   "metadata": {},
   "outputs": [
    {
     "name": "stdout",
     "output_type": "stream",
     "text": [
      "correct_answers: 18\n",
      "total_questions: 25\n",
      "Test Score: 72.0%\n"
     ]
    }
   ],
   "source": [
    "# Given data\n",
    "correct_answers = 18\n",
    "total_questions = 25\n",
    "\n",
    "# Calculate percentage\n",
    "score_percentage = (correct_answers/total_questions)*100\n",
    "\n",
    "# Print the result in the specified format\n",
    "print(f\"correct_answers: {correct_answers}\")\n",
    "print(f\"total_questions: {total_questions}\")\n",
    "print(f\"Test Score: {score_percentage:}%\")"
   ]
  },
  {
   "cell_type": "code",
   "execution_count": 79,
   "id": "b57dee06-580c-4327-8b3a-24b0125b14be",
   "metadata": {},
   "outputs": [
    {
     "name": "stdout",
     "output_type": "stream",
     "text": [
      "Alpha_Left: 25.4µV²\n",
      "Alpha_Right: 23.6µV²\n",
      "Average_Alpha_Power: 24.5µV²\n"
     ]
    }
   ],
   "source": [
    "# Given average wave power variables\n",
    "alpha_left = 25.4 # µV²\n",
    "alpha_right = 23.6 # µV²\n",
    "\n",
    "# Calculate average alpha power\n",
    "average_alpha_power = (alpha_left + alpha_right)/2\n",
    "\n",
    "# Print the results\n",
    "print(f\"Alpha_Left: {alpha_left}µV²\")\n",
    "print(f\"Alpha_Right: {alpha_right}µV²\")\n",
    "print(f\"Average_Alpha_Power: {average_alpha_power}µV²\")"
   ]
  },
  {
   "cell_type": "code",
   "execution_count": 95,
   "id": "1de29526-879d-4a3d-bc5d-aeb4b56aac87",
   "metadata": {},
   "outputs": [
    {
     "name": "stdout",
     "output_type": "stream",
     "text": [
      "Alpha_Power: 22.32µV²\n",
      "Beta_Power: 15.1242µV²\n",
      "Alpha_to_Beta_Ratio: 1.48µV²\n"
     ]
    }
   ],
   "source": [
    "# Given EEG power values\n",
    "alpha_power = 22.32 # µV²\n",
    "beta_power = 15.1242 # µV²\n",
    "\n",
    "# Calculate alpha to beta ratio\n",
    "ratio = alpha_power / beta_power\n",
    "\n",
    "# Print the results\n",
    "print(f\"Alpha_Power: {alpha_power}µV²\")\n",
    "print(f\"Beta_Power: {beta_power}µV²\")\n",
    "print(f\"Alpha_to_Beta_Ratio: {ratio:.2f}µV²\") # Display ratio with two decimal places"
   ]
  },
  {
   "cell_type": "code",
   "execution_count": 105,
   "id": "ab65128d-548c-4836-8348-6322aca35b73",
   "metadata": {},
   "outputs": [
    {
     "name": "stdout",
     "output_type": "stream",
     "text": [
      "Delta_Power(1-4Hz): 10.5µV²\n",
      "Theta_Power(4-8Hz): 15.3µV²\n",
      "Alpha_Power(8-12Hz): 20.7µV²\n",
      "Beta_Power(12-30Hz): 25.1µV²\n",
      "Alpha_Band_Contribution: 28.9%\n"
     ]
    }
   ],
   "source": [
    "# Given EEG power values\n",
    "delta_power = 10.5 # µV²\n",
    "theta_power = 15.3 # µV²\n",
    "alpha_power = 20.7 # µV²\n",
    "beta_power = 25.1 # µV²\n",
    "\n",
    "#calculate total power\n",
    "total_power = delta_power + theta_power + alpha_power + beta_power\n",
    "\n",
    "# Calculate percentage of alpha contribution\n",
    "alpha_contribution = (alpha_power/total_power)*100\n",
    "\n",
    "# Print the results\n",
    "print(f\"Delta_Power(1-4Hz): {delta_power}µV²\")\n",
    "print(f\"Theta_Power(4-8Hz): {theta_power}µV²\")\n",
    "print(f\"Alpha_Power(8-12Hz): {alpha_power}µV²\")\n",
    "print(f\"Beta_Power(12-30Hz): {beta_power}µV²\")\n",
    "print(f\"Alpha_Band_Contribution: {alpha_contribution:.1f}%\") # Display ratio with one decimal places"
   ]
  },
  {
   "cell_type": "code",
   "execution_count": 115,
   "id": "4dbe77c0-6d16-4861-955b-08f2cc729d89",
   "metadata": {},
   "outputs": [
    {
     "name": "stdout",
     "output_type": "stream",
     "text": [
      "Walk Calories: 8calories per minute\n",
      "Run Calories: 12calories per minute\n",
      "Walk Time: 30minutes\n",
      "Run Time: 15minutes\n",
      "Total Calories: 420calories\n"
     ]
    }
   ],
   "source": [
    "# Given values\n",
    "walk_calories = 8 # calories per minute\n",
    "run_calories = 12 # calories per minute\n",
    "walk_time = 30 # minutes\n",
    "run_time = 15 # minutes\n",
    "\n",
    "# Calculate the total calories burned\n",
    "total_calories = (walk_calories * walk_time) + (run_calories * run_time)\n",
    "\n",
    "# print the results\n",
    "print(f\"Walk Calories: {walk_calories}calories per minute\")\n",
    "print(f\"Run Calories: {run_calories}calories per minute\")\n",
    "print(f\"Walk Time: {walk_time}minutes\")\n",
    "print(f\"Run Time: {run_time}minutes\")\n",
    "\n",
    "print(f\"Total Calories: {total_calories}calories\")"
   ]
  },
  {
   "cell_type": "code",
   "execution_count": 123,
   "id": "0edd0405-1b70-47e1-b1e6-3f4675a4476b",
   "metadata": {},
   "outputs": [
    {
     "name": "stdin",
     "output_type": "stream",
     "text": [
      "Please input a positive integer 5\n"
     ]
    },
    {
     "name": "stdout",
     "output_type": "stream",
     "text": [
      "107\n"
     ]
    }
   ],
   "source": [
    "N = int(input('Please input a positive integer'))\n",
    "\n",
    "output = 0\n",
    "for i in range (N+1):\n",
    "    if i%2 == 0:\n",
    "        output += i*i*i\n",
    "    if i%2 == 1:\n",
    "        output += i*i\n",
    "\n",
    "print (output)\n",
    "        "
   ]
  },
  {
   "cell_type": "code",
   "execution_count": 139,
   "id": "6557515e-ca85-4b36-a377-8fcfea3b5b3c",
   "metadata": {},
   "outputs": [
    {
     "name": "stdin",
     "output_type": "stream",
     "text": [
      "Enter direction (left/right):  right\n",
      "Enter number of elements to rotate:  5\n"
     ]
    },
    {
     "name": "stdout",
     "output_type": "stream",
     "text": [
      "Rotated Array: [3, 4, 5, 6, 7, 1, 2]\n"
     ]
    }
   ],
   "source": [
    "# Example array\n",
    "arr = [1, 2, 3, 4, 5, 6, 7]\n",
    "\n",
    "# User input\n",
    "direction = input(\"Enter direction (left/right): \").strip().lower()\n",
    "d = int(input(\"Enter number of elements to rotate: \"))\n",
    "\n",
    "# Perform rotation\n",
    "result = rotate_array(arr, direction, d)\n",
    "\n",
    "# Print result\n",
    "if result:\n",
    "     print(\"Rotated Array:\", result)"
   ]
  },
  {
   "cell_type": "code",
   "execution_count": 147,
   "id": "961b997a-9d31-4288-976c-039dae1835d1",
   "metadata": {},
   "outputs": [
    {
     "name": "stdin",
     "output_type": "stream",
     "text": [
      "Input Direction of Rotation: right\n",
      "Number of elements to rotate: -45\n"
     ]
    },
    {
     "name": "stdout",
     "output_type": "stream",
     "text": [
      "[1, 2, 3, 4, 5, 6, 7]\n"
     ]
    }
   ],
   "source": [
    "array = [1,2,3,4,5,6,7]\n",
    "output = []\n",
    "direction = input('Input Direction of Rotation:')\n",
    "d =int(input('Number of elements to rotate:'))\n",
    "\n",
    "if direction =='left':\n",
    "    output.extend (array[d:])\n",
    "    output.extend (array[:d])\n",
    "elif direction =='right':\n",
    "    output.extend (array[-d:])\n",
    "    output.extend (array[:-d])\n",
    "\n",
    "print(output)"
   ]
  },
  {
   "cell_type": "code",
   "execution_count": 150,
   "id": "b7d55e96-0afc-4e35-a707-862110603cac",
   "metadata": {},
   "outputs": [
    {
     "name": "stdin",
     "output_type": "stream",
     "text": [
      "Row shift or column shift? ('row' or 'column'):  row\n",
      "Which direction? ('left' or 'right'):  left\n",
      "Index of the column or row? (MUST BE AN INTEGER):  6\n",
      "How many elements need to be shifted? (MUST BE AN INTEGER):  4\n"
     ]
    },
    {
     "ename": "IndexError",
     "evalue": "list index out of range",
     "output_type": "error",
     "traceback": [
      "\u001b[1;31m---------------------------------------------------------------------------\u001b[0m",
      "\u001b[1;31mIndexError\u001b[0m                                Traceback (most recent call last)",
      "Cell \u001b[1;32mIn[150], line 12\u001b[0m\n\u001b[0;32m     10\u001b[0m index \u001b[38;5;241m=\u001b[39m \u001b[38;5;28mint\u001b[39m(\u001b[38;5;28minput\u001b[39m(\u001b[38;5;124m'\u001b[39m\u001b[38;5;124mIndex of the column or row? (MUST BE AN INTEGER): \u001b[39m\u001b[38;5;124m'\u001b[39m))\n\u001b[0;32m     11\u001b[0m d \u001b[38;5;241m=\u001b[39m \u001b[38;5;28mint\u001b[39m(\u001b[38;5;28minput\u001b[39m(\u001b[38;5;124m'\u001b[39m\u001b[38;5;124mHow many elements need to be shifted? (MUST BE AN INTEGER): \u001b[39m\u001b[38;5;124m'\u001b[39m))\n\u001b[1;32m---> 12\u001b[0m temp \u001b[38;5;241m=\u001b[39m array[index][d:] \u001b[38;5;241m+\u001b[39m array[index][:d]\n\u001b[0;32m     13\u001b[0m array[index] \u001b[38;5;241m=\u001b[39m temp\n\u001b[0;32m     14\u001b[0m pprint\u001b[38;5;241m.\u001b[39mpprint(array, indent\u001b[38;5;241m=\u001b[39m\u001b[38;5;241m4\u001b[39m)\n",
      "\u001b[1;31mIndexError\u001b[0m: list index out of range"
     ]
    }
   ],
   "source": [
    "import pprint\n",
    "\n",
    "array = [[1, 2, 3, 4, 5], [6, 7, 8, 9, 10], [11, 12, 13, 14, 15]]\n",
    "output = []\n",
    "shift = input(\"Row shift or column shift? ('row' or 'column'): \")\n",
    "\n",
    "if shift == 'row':\n",
    "    direction = input(\"Which direction? ('left' or 'right'): \")\n",
    "    if direction == 'left':\n",
    "        index = int(input('Index of the column or row? (MUST BE AN INTEGER): '))\n",
    "        d = int(input('How many elements need to be shifted? (MUST BE AN INTEGER): '))\n",
    "        temp = array[index][d:] + array[index][:d]\n",
    "        array[index] = temp\n",
    "        pprint.pprint(array, indent=4)\n",
    "    elif direction == 'right':\n",
    "        index = int(input('Index of the column or row? (MUST BE AN INTEGER): '))\n",
    "        d = int(input('How many elements need to be shifted? (MUST BE AN INTEGER): '))\n",
    "        temp = array[index][-d:] + array[index][:-d]\n",
    "        array[index] = temp\n",
    "        pprint.pprint(array, indent=4)\n",
    "    else:\n",
    "        print(\"Invalid direction!\")\n",
    "        exit()\n",
    "\n",
    "elif shift == 'column':\n",
    "    direction = input(\"Which direction? ('top' or 'down'): \")\n",
    "    index = int(input('Index of the column or row? (MUST BE AN INTEGER): '))\n",
    "    d = int(input('How many elements need to be shifted? (MUST BE AN INTEGER): '))\n",
    "    \n",
    "    col = []\n",
    "    for row in array:\n",
    "        col.append(row[index])\n",
    "\n",
    "    if direction == 'top':\n",
    "        col = col[d:] + col[:d]\n",
    "        for ind, val in enumerate(col):\n",
    "            array[ind][index] = val\n",
    "        pprint.pprint(array, indent=4)\n",
    "\n",
    "    elif direction == 'down':\n",
    "        col = col[-d:] + col[:-d]\n",
    "        for ind, val in enumerate(col):\n",
    "            array[ind][index] = val\n",
    "        pprint.pprint(array, indent=4)\n",
    "\n",
    "    else:\n",
    "        print(\"Invalid Direction or Index!\")\n",
    "        exit()\n",
    "    \n",
    "else:\n",
    "    print(\"Invalid shift type!\")\n",
    "    exit()"
   ]
  }
 ],
 "metadata": {
  "kernelspec": {
   "display_name": "Python [conda env:base] *",
   "language": "python",
   "name": "conda-base-py"
  },
  "language_info": {
   "codemirror_mode": {
    "name": "ipython",
    "version": 3
   },
   "file_extension": ".py",
   "mimetype": "text/x-python",
   "name": "python",
   "nbconvert_exporter": "python",
   "pygments_lexer": "ipython3",
   "version": "3.12.7"
  }
 },
 "nbformat": 4,
 "nbformat_minor": 5
}
